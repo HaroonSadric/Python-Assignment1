{
 "cells": [
  {
   "cell_type": "markdown",
   "id": "905b627c",
   "metadata": {},
   "source": [
    "# Question No. 1"
   ]
  },
  {
   "cell_type": "code",
   "execution_count": 1,
   "id": "e554b3c2",
   "metadata": {},
   "outputs": [
    {
     "name": "stdout",
     "output_type": "stream",
     "text": [
      "integer 1 is 200\n",
      "integer 2 is 335\n",
      "float 1 is 200.0\n",
      "float 2 is 335.26\n",
      "List is [1, 2, 3, 4, 5]\n",
      "List is [1, 2, 3, 4, 5]\n",
      "Set is {1, 2, 3, 4, 5, 6, 7, 8}\n",
      "Set is {1, 2, 3, 4, 5, 6, 7, 8}\n"
     ]
    }
   ],
   "source": [
    "a=200\n",
    "b=335.26\n",
    "\n",
    "#constructor for Integers\n",
    "print(\"integer 1 is\", int(a))\n",
    "print(\"integer 2 is\", int(b))\n",
    "\n",
    "#constructor for Floats\n",
    "print(\"float 1 is\", float(a))\n",
    "print(\"float 2 is\", float(b))\n",
    "\n",
    "# Creation of list\n",
    "L1=[1,2,3,4,5]\n",
    "print(\"List is\",L1)\n",
    "\n",
    "L2=list((1,2,3,4,5))\n",
    "print(\"List is\",L2)\n",
    "\n",
    "# Creation of Set\n",
    "S1={1,2,3,4,5,6,7,8}\n",
    "print(\"Set is\",S1)\n",
    "\n",
    "S2=set((1,2,3,4,5,6,7,8))\n",
    "print(\"Set is\",S2)"
   ]
  },
  {
   "cell_type": "markdown",
   "id": "23d7e4e8",
   "metadata": {},
   "source": [
    "# Question No. 2"
   ]
  },
  {
   "cell_type": "markdown",
   "id": "f695736a",
   "metadata": {},
   "source": [
    "# Conversion of Integers in Floats and Floats in Integers"
   ]
  },
  {
   "cell_type": "code",
   "execution_count": 2,
   "id": "a6d25b9c",
   "metadata": {},
   "outputs": [
    {
     "name": "stdout",
     "output_type": "stream",
     "text": [
      "integer = 2\n",
      "float = 3.35\n",
      "integer converted to float =  2.0\n",
      "float converted to integer =  3\n"
     ]
    }
   ],
   "source": [
    "c=2\n",
    "d=3.35\n",
    "e = -5\n",
    "print (\"integer =\",c)\n",
    "print (\"float =\",d)\n",
    "\n",
    "# conversion\n",
    "print(\"integer converted to float = \",float(c))\n",
    "print(\"float converted to integer = \",int(d))"
   ]
  },
  {
   "cell_type": "markdown",
   "id": "97ec36ed",
   "metadata": {},
   "source": [
    "# Arithmetic Operators"
   ]
  },
  {
   "cell_type": "code",
   "execution_count": 3,
   "id": "9a01930a",
   "metadata": {},
   "outputs": [
    {
     "name": "stdout",
     "output_type": "stream",
     "text": [
      "addition result ( a + b) =  230\n",
      "subtraction result ( a - b) =  70\n",
      "multiplication result ( a x b) =  12000\n",
      "division result ( a / b) =  1.875\n",
      "exponential result ( a ^ 2) =  3375000\n",
      "floor division result ( a // b) =  1\n"
     ]
    }
   ],
   "source": [
    "a = 150\n",
    "b = 80\n",
    "\n",
    "addition = a+b\n",
    "subtraction = a-b\n",
    "multiplication = a*b\n",
    "division = a/b\n",
    "exponential = a**3\n",
    "floor_division = a//b\n",
    "\n",
    "\n",
    "print (\"addition result ( a + b) = \",addition) # addition result\n",
    "print (\"subtraction result ( a - b) = \",subtraction) # subtraction result\n",
    "print (\"multiplication result ( a x b) = \",multiplication) # multiplication result\n",
    "print (\"division result ( a / b) = \",division) # division result\n",
    "print (\"exponential result ( a ^ 2) = \",exponential) # exponential result\n",
    "print (\"floor division result ( a // b) = \",floor_division) # floor division result"
   ]
  },
  {
   "cell_type": "markdown",
   "id": "959f4770",
   "metadata": {},
   "source": [
    "# Comparison Operators"
   ]
  },
  {
   "cell_type": "code",
   "execution_count": 4,
   "id": "02553dce",
   "metadata": {},
   "outputs": [
    {
     "name": "stdout",
     "output_type": "stream",
     "text": [
      "x =  9 y =  8\n",
      "x = y False\n",
      "x != y True\n",
      "x < y False\n",
      "x > y True\n",
      "x <= y False\n",
      "x >= y True\n"
     ]
    }
   ],
   "source": [
    "x,y = 9,8\n",
    "print(\"x = \",x,\"y = \",y)\n",
    "print(\"x = y\", x==y) # x is equal to y\n",
    "print(\"x != y\",x!=y) # x is not equal to y\n",
    "print(\"x < y\",x<y) # x is less than y\n",
    "print (\"x > y\", x>y) # x is greater than y\n",
    "print(\"x <= y\",x<=y) # x is less than equal to y\n",
    "print (\"x >= y\", x>=y) # x is greater than equal to y"
   ]
  },
  {
   "cell_type": "markdown",
   "id": "1dcebf69",
   "metadata": {},
   "source": [
    "# Logical Operators"
   ]
  },
  {
   "cell_type": "code",
   "execution_count": 5,
   "id": "34378c6e",
   "metadata": {},
   "outputs": [
    {
     "name": "stdout",
     "output_type": "stream",
     "text": [
      "False\n",
      "False\n",
      "False\n",
      "True\n",
      "False\n"
     ]
    }
   ],
   "source": [
    "w = 5\n",
    "print (w<=5 and w<4)\n",
    "print (True and False)\n",
    "print (w<5 or w<=4)\n",
    "print (True or False)\n",
    "print (not(True))"
   ]
  },
  {
   "cell_type": "markdown",
   "id": "d07da588",
   "metadata": {},
   "source": [
    "# Question No. 3"
   ]
  },
  {
   "cell_type": "code",
   "execution_count": 6,
   "id": "40bad7f5",
   "metadata": {},
   "outputs": [
    {
     "name": "stdout",
     "output_type": "stream",
     "text": [
      "86\n",
      "4\n",
      "5\n",
      "-5.0\n"
     ]
    }
   ],
   "source": [
    "dir(b)\n",
    "print(b.__add__(6)) # similar to the addition operator\n",
    "print(d.__ceil__()) # ceil function\n",
    "print(e.__abs__()) # absolute function\n",
    "print(e.__float__()) # float function\""
   ]
  },
  {
   "cell_type": "markdown",
   "id": "982005f9",
   "metadata": {},
   "source": [
    "# Question No. 4"
   ]
  },
  {
   "cell_type": "code",
   "execution_count": 7,
   "id": "5f6e99bc",
   "metadata": {},
   "outputs": [
    {
     "name": "stdout",
     "output_type": "stream",
     "text": [
      "I love python\n",
      "I love python\n",
      "I love python version  3.1\n",
      "I love python version 3.10\n",
      "I love python version 3.10\n",
      "I love python version 3.1\n",
      "I love python version 3.10\n",
      "I love python version 3.10\n",
      "I love 3.10 version of python\n",
      "I love python version 3.10\n",
      "I love python version 3.10\n",
      "I love python version 3.10\n",
      "I love python\n"
     ]
    }
   ],
   "source": [
    "print(\"I love\",\"python\")\n",
    "print(\"I love\" + \" python\")\n",
    "print(\"I love\" + \" python\" + \" version \", 3.10)\n",
    "print(\"I love\" + \" python\" + \" version %.2f\"%3.10)\n",
    "print(\"I love %s version %.2f\"%(\"python\",3.10))\n",
    "\n",
    "#Using format position argument\n",
    "print(\"I love {} version {}\".format(\"python\",3.10))\n",
    "print(\"I love {} version {}\".format(\"python\",\"3.10\"))\n",
    "print(\"I love {} version {:.2f}\".format(\"python\",3.10))\n",
    "print(\"I love {1} version of {0}\".format(\"python\",\"3.10\"))\n",
    "\n",
    "# Using python for Keyword aurgument\n",
    "print(\"I love {pl} version {version:.2f}\".format(pl=\"python\",version=3.10))\n",
    "\n",
    "# Using F-String Literal\n",
    "info={\"pl\":\"python\",\"version\":3.10}\n",
    "print(f\"I love {info.get('pl')} version {info.get('version'):.2f}\")\n",
    "      \n",
    "# Can be done with uppercase f literal and fingle quote but double quotes while accessing dictionary value\n",
    "print(F'I love {info[\"pl\"]} version {info[\"version\"]:.2f}')\n",
    "\n",
    "#f-string conditional\n",
    "batch='ML'\n",
    "print(f'I love {\"javascript\" if batch==\"FS\" else \"python\"}')\n",
    "      "
   ]
  },
  {
   "cell_type": "markdown",
   "id": "418790ec",
   "metadata": {},
   "source": [
    "# Question No. 5"
   ]
  },
  {
   "cell_type": "code",
   "execution_count": 8,
   "id": "6c445ac1",
   "metadata": {},
   "outputs": [
    {
     "name": "stdout",
     "output_type": "stream",
     "text": [
      "a= List of some Schengen countries are =  ['Finland', 'Sweden', 'Denmark', 'Netherlands', 'Germany', 'Norway', 'Iceland']\n",
      "b= Index or position of Sweden is 1\n",
      "c= All countries other than finland ['Sweden', 'Denmark', 'Netherlands', 'Germany', 'Norway']\n",
      "d= All countries other than iceland ['Finland', 'Sweden', 'Denmark', 'Netherlands', 'Germany']\n",
      "e= Last country is Iceland\n",
      "f= last three countries are ['Germany', 'Norway', 'Iceland']\n",
      "g= countries with odd indices ['Sweden', 'Netherlands', 'Norway']\n",
      "h= first and last countries are ['Finland', 'Iceland']\n",
      "i= countries ['Netherlands', 'Germany', 'Norway']\n",
      "j= reverse order of list is ['Iceland', 'Norway', 'Germany', 'Netherlands', 'Denmark', 'Sweden', 'Finland']\n",
      "k= output of countries [::-2] are ['Iceland', 'Germany', 'Denmark', 'Finland']\n",
      "l= output of countries [1:100:2] ['Sweden', 'Netherlands', 'Norway']\n",
      "m= output of countries [-1:0:2] []\n",
      "['n= output of three countries are', 'Germany', 'Netherlands', 'Denmark']\n"
     ]
    },
    {
     "data": {
      "text/plain": [
       "[(0, 'Finland'),\n",
       " (1, 'Sweden'),\n",
       " (2, 'Denmark'),\n",
       " (3, 'Netherlands'),\n",
       " (4, 'Germany'),\n",
       " (5, 'Norway'),\n",
       " (6, 'Iceland')]"
      ]
     },
     "execution_count": 8,
     "metadata": {},
     "output_type": "execute_result"
    }
   ],
   "source": [
    "countries1 = [\"Finland\",\"Sweden\",\"Denmark\",\"Netherlands\",\"Germany\",\"Norway\",\"Iceland\"] # a. create a list of items\n",
    "print (\"a= List of some Schengen countries are = \",countries1)\n",
    "\n",
    "\n",
    "b=countries1.index(\"Sweden\") # b. Find the index of Sweden\n",
    "print (\"b= Index or position of Sweden is\",b)\n",
    "\n",
    "print(\"c= All countries other than finland\",countries1[1:-1]) # c. All countries other than first\n",
    "\n",
    "print(\"d= All countries other than iceland\",countries1[:-2])  # d. All countries other than last\n",
    "\n",
    "print(\"e= Last country is\",countries1[-1]) # e. Finding iceland using negative index\n",
    "\n",
    "print(\"f= last three countries are\",countries1[-3:])  # f. last three countries using negative indexing\n",
    "\n",
    "print(\"g= countries with odd indices\",countries1[1::2])  # g. items with odd indices\n",
    "\n",
    "print(\"h= first and last countries are\", countries1[::len(countries1)-1]) # h. first and last countries for the list\n",
    "\n",
    "print(\"i= countries\",countries1[-4:-1])  # i. \"Netherlands”,”Germany”,”Norway” using negative indexing\n",
    "\n",
    "print(\"j= reverse order of list is\",countries1[::-1])  # j. Reverse the list\n",
    "\n",
    "print(\"k= output of countries [::-2] are\",countries1[::-2])  # k. finding output of countries[::-2]\n",
    "\n",
    "print(\"l= output of countries [1:100:2]\",countries1[1:100:2])  # l. finding output of countries[1:100:2]\n",
    "\n",
    "print(\"m= output of countries [-1:0:2]\",countries1[len(countries1)-1:0:2])   # m. finding output of countries[len(countries)-1:0:2]\n",
    "\n",
    "print([\"n= output of three countries are\",countries1[-3], countries1[-4], countries1[-5]]) # n. Getting the output ['Germany', 'Netherlands', 'Denmark']\n",
    "\n",
    "[pair for pair in enumerate(countries1)]  # o. enumerate method to get index and values in the list\n"
   ]
  },
  {
   "cell_type": "markdown",
   "id": "39a88c49",
   "metadata": {},
   "source": [
    "# Question No. 6"
   ]
  },
  {
   "cell_type": "code",
   "execution_count": 9,
   "id": "a6ddb430",
   "metadata": {},
   "outputs": [
    {
     "name": "stdout",
     "output_type": "stream",
     "text": [
      "assigning values are =  {'a': 1, 'b': 2, 'c': 3, 'd': 4}\n",
      "merged dictionaries are {'m': 100, 'n': 90, 'p': 4, 'q': 8}\n",
      "{'Duy': ['Python', 'Database', 'ML'], 'Laxmi': ['Python', 'Database', 'ML'], 'Antonio': ['Python', 'Database', 'ML']}\n"
     ]
    }
   ],
   "source": [
    "# a.\n",
    "\n",
    "List1 = [\"a\",\"b\",\"c\",\"d\"]\n",
    "List2 = [1,2,3,4]\n",
    "dict_data = {k: v for k, v in zip(List1, List2)}\n",
    "print(\"assigning values are = \",dict_data)\n",
    "\n",
    "# b.\n",
    "\n",
    "dict_1 = {'m': 100, 'n': 90}\n",
    "dict_2 = {'p': 4, 'q': 8}\n",
    "dict_merg = dict_1.copy()\n",
    "dict_merg.update(dict_2)\n",
    "print(\"merged dictionaries are\",dict_merg)\n",
    "\n",
    "# c.\n",
    "\n",
    "Students = [\"Duy\", \"Laxmi\",\"Antonio\",\"Maria\"]\n",
    "Course = [\"Python\",\"Database\",\"ML\"]\n",
    "dictionary = {k: Course for k, v in zip(Students, Course)}\n",
    "print(dictionary)"
   ]
  },
  {
   "cell_type": "code",
   "execution_count": null,
   "id": "2243ce83",
   "metadata": {},
   "outputs": [],
   "source": []
  },
  {
   "cell_type": "code",
   "execution_count": null,
   "id": "dedcfa59",
   "metadata": {},
   "outputs": [],
   "source": []
  }
 ],
 "metadata": {
  "kernelspec": {
   "display_name": "Python 3 (ipykernel)",
   "language": "python",
   "name": "python3"
  },
  "language_info": {
   "codemirror_mode": {
    "name": "ipython",
    "version": 3
   },
   "file_extension": ".py",
   "mimetype": "text/x-python",
   "name": "python",
   "nbconvert_exporter": "python",
   "pygments_lexer": "ipython3",
   "version": "3.9.7"
  }
 },
 "nbformat": 4,
 "nbformat_minor": 5
}
